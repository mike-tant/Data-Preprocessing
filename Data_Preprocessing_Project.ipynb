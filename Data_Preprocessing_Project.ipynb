{
 "cells": [
  {
   "cell_type": "markdown",
   "metadata": {},
   "source": [
    "<font color=\"red\"> Hi! My name is Mikhail and I'm your reviewer for this project. You will find my comments in red </font>\n",
    "\n",
    "<p><font color=\"blue\"> Hi Mikhail. I'm Mike.  Thank you for reviewing my submission! </font></p>"
   ]
  },
  {
   "cell_type": "markdown",
   "metadata": {},
   "source": [
    "<font color=\"red\"> Hi Mike! Thank you for taking my comments into account and for the additional analysis. The submission is perfect now </font>"
   ]
  },
  {
   "cell_type": "markdown",
   "metadata": {},
   "source": [
    "## Analyzing borrowers’ risk of defaulting\n",
    "\n",
    "Your project is to prepare a report for a bank’s loan division. You’ll need to find out if a customer’s marital status and number of children has an impact on whether they will default on a loan. The bank already has some data on customers’ credit worthiness.\n",
    "\n",
    "Your report will be considered when building a **credit scoring** of a potential customer. A ** credit scoring ** is used to evaluate the ability of a potential borrower to repay their loan."
   ]
  },
  {
   "cell_type": "markdown",
   "metadata": {},
   "source": [
    "### Step 1. Open the data file and have a look at the general information. "
   ]
  },
  {
   "cell_type": "code",
   "execution_count": 646,
   "metadata": {},
   "outputs": [
    {
     "name": "stdout",
     "output_type": "stream",
     "text": [
      "<class 'pandas.core.frame.DataFrame'>\n",
      "RangeIndex: 21525 entries, 0 to 21524\n",
      "Data columns (total 12 columns):\n",
      "children            21525 non-null int64\n",
      "days_employed       19351 non-null float64\n",
      "dob_years           21525 non-null int64\n",
      "education           21525 non-null object\n",
      "education_id        21525 non-null int64\n",
      "family_status       21525 non-null object\n",
      "family_status_id    21525 non-null int64\n",
      "gender              21525 non-null object\n",
      "income_type         21525 non-null object\n",
      "debt                21525 non-null int64\n",
      "total_income        19351 non-null float64\n",
      "purpose             21525 non-null object\n",
      "dtypes: float64(2), int64(5), object(5)\n",
      "memory usage: 2.0+ MB\n"
     ]
    }
   ],
   "source": [
    "import pandas as pd\n",
    "credit_data = pd.read_csv('/datasets/credit_scoring_eng.csv')\n",
    "#check the general info of the data frame\n",
    "credit_data.info()"
   ]
  },
  {
   "cell_type": "markdown",
   "metadata": {},
   "source": [
    "### Conclusion\n",
    "\n",
    "When reading the general information of the credit_data table, I observed the following:\n",
    "\n",
    "1. There are 12 columns with 21,525 rows of data.\n",
    "2. There are missing values with 'days_employed' and 'total_income', both are float data types.  These values are most likely MNAR since the exact same amount is missing from both columns.\n"
   ]
  },
  {
   "cell_type": "markdown",
   "metadata": {},
   "source": [
    "\n",
    "\n",
    "### Step 2. Data preprocessing"
   ]
  },
  {
   "cell_type": "markdown",
   "metadata": {},
   "source": [
    "### Processing missing values"
   ]
  },
  {
   "cell_type": "code",
   "execution_count": 647,
   "metadata": {},
   "outputs": [
    {
     "data": {
      "text/plain": [
       "children            0\n",
       "days_employed       0\n",
       "dob_years           0\n",
       "education           0\n",
       "education_id        0\n",
       "family_status       0\n",
       "family_status_id    0\n",
       "gender              0\n",
       "income_type         0\n",
       "debt                0\n",
       "total_income        0\n",
       "purpose             0\n",
       "dtype: int64"
      ]
     },
     "execution_count": 647,
     "metadata": {},
     "output_type": "execute_result"
    }
   ],
   "source": [
    "#identify the missing values\n",
    "credit_data.isnull().sum()\n",
    "\n",
    "#fill the cells that have 'NaN' with '0'\n",
    "credit_data['days_employed'] = credit_data['days_employed'].fillna(0)\n",
    "credit_data['total_income'] = credit_data['total_income'].fillna(0) \n",
    "\n",
    "#check to see if the code worked\n",
    "credit_data.isnull().sum()"
   ]
  },
  {
   "cell_type": "markdown",
   "metadata": {},
   "source": [
    "### Conclusion\n",
    "\n",
    "1. There are 2,174 values missing in the 'days_employed' and 'total_income' columns.  The values in both columns are float data types.  \n",
    "\n",
    "2. There are many possible reasons these values are missing.  \n",
    "    1. the customer did not enter the information.\n",
    "    2. there was a glitch in an automated system.\n",
    "    3. the customer is unemployed.\n",
    "    4. the customer is dependent on a spouse for income.\n",
    "    5. the customer is retired and living off savings.\n",
    "    6. the customer is living off savings regardless of any other factor.\n",
    "    7. the customer just started a business and hasn't become profitable.\n",
    "    8. the customer is recently divorced, leaving the customer without access to the spouse's funds.\n",
    "    9. the customer is recently widow/widower, leaving the customer without access to the spouse's funds.\n",
    "\n",
    "3. I used the .fillna() method to fill in the missing values.  This method identifies every cell that contains 'NaN' as a value, and replaces it with a '0'.  \n"
   ]
  },
  {
   "cell_type": "markdown",
   "metadata": {},
   "source": [
    "<font color=\"red\"> Good! </font>\n",
    "\n",
    "<font color=\"blue\"> Thanks! </font>"
   ]
  },
  {
   "cell_type": "markdown",
   "metadata": {},
   "source": [
    "\n",
    "\n",
    "### Data type replacement"
   ]
  },
  {
   "cell_type": "code",
   "execution_count": 648,
   "metadata": {},
   "outputs": [
    {
     "name": "stdout",
     "output_type": "stream",
     "text": [
      "secondary education    15233\n",
      "bachelor's degree       5260\n",
      "some college             744\n",
      "primary education        282\n",
      "graduate degree            6\n",
      "Name: education, dtype: int64\n"
     ]
    }
   ],
   "source": [
    "#converts float type to int type\n",
    "credit_data['days_employed'] = credit_data['days_employed'].astype('int')\n",
    "credit_data['total_income'] = credit_data['total_income'].astype('int')\n",
    "\n",
    "#check the column for unique values\n",
    "credit_data['education'].value_counts()\n",
    "\n",
    "#convert all values to lowercase letters\n",
    "credit_data['education'] = credit_data['education'].str.lower()\n",
    "\n",
    "#check the column again, no duplicates are found\n",
    "print(credit_data['education'].value_counts())\n",
    "\n",
    "#check the table to make sure the conversion worked\n",
    "#print(credit_data.head(20))\n"
   ]
  },
  {
   "cell_type": "markdown",
   "metadata": {},
   "source": [
    "<font color=\"red\"> Why are you reading the data again? I see that you are doing it each time. There is no need to do it. All variables are saved between your cells. So you can read data once and use each cell for some additonal preproessing steps on your data. Just reuse the same variables names. See example with three cells before  </font>  \n",
    "\n",
    "<font color=\"blue\"> I wasn't sure how Jupyter Notebook worked.  I learned that I need to \"Run All\" cells in order for my code to work.  Now that I know how to do that, I deleted the repeated code.  \n",
    "\n"
   ]
  },
  {
   "cell_type": "code",
   "execution_count": 649,
   "metadata": {},
   "outputs": [],
   "source": [
    "import pandas as pd\n",
    "credit_data = pd.read_csv('/datasets/credit_scoring_eng.csv')"
   ]
  },
  {
   "cell_type": "code",
   "execution_count": 650,
   "metadata": {},
   "outputs": [],
   "source": [
    "credit_data['days_employed'] = credit_data['days_employed'].fillna(0)\n",
    "credit_data['total_income'] = credit_data['total_income'].fillna(0) "
   ]
  },
  {
   "cell_type": "code",
   "execution_count": 651,
   "metadata": {},
   "outputs": [],
   "source": [
    "credit_data['days_employed'] = credit_data['days_employed'].astype('int')\n",
    "credit_data['total_income'] = credit_data['total_income'].astype('int')"
   ]
  },
  {
   "cell_type": "markdown",
   "metadata": {},
   "source": [
    "<font color=\"red\"> ... further steps with no need to read data and repeat all these steps again and again ... </font>"
   ]
  },
  {
   "cell_type": "markdown",
   "metadata": {},
   "source": [
    "### Conclusion"
   ]
  },
  {
   "cell_type": "markdown",
   "metadata": {},
   "source": [
    "I converted the values in columns 'days_employed' and 'total_income' using the .astype() method.  This method takes an exisiting data type and converts it into another data type, in this case 'float' to 'int'.  Converting to integers makes the data easier to digest.  Now that every value is the int type, arithmetic operations can be carried out with the values.\n",
    "\n"
   ]
  },
  {
   "cell_type": "markdown",
   "metadata": {},
   "source": [
    "### Processing duplicates"
   ]
  },
  {
   "cell_type": "code",
   "execution_count": 652,
   "metadata": {},
   "outputs": [
    {
     "name": "stdout",
     "output_type": "stream",
     "text": [
      "54\n",
      "0\n"
     ]
    }
   ],
   "source": [
    "#check for duplicates in the data table\n",
    "print(credit_data.duplicated().sum())\n",
    "\n",
    "#drop duplicate data using the .drop_duplicats() method\n",
    "credit_data = credit_data.drop_duplicates().reset_index()\n",
    "\n",
    "#check the table again\n",
    "print(credit_data.duplicated().sum())\n"
   ]
  },
  {
   "cell_type": "markdown",
   "metadata": {},
   "source": [
    "<font color=\"red\"> Great, but these changes won't be applied once you read your data again :( </font>\n",
    "\n",
    "<font color=\"blue\"> Should be fixed now! </font>"
   ]
  },
  {
   "cell_type": "markdown",
   "metadata": {},
   "source": [
    "### Conclusion"
   ]
  },
  {
   "cell_type": "markdown",
   "metadata": {},
   "source": [
    "#### I used the .duplicated() and .sum() method in tandem to find how many duplicates are in the data.  I then deleted the 54 duplicates using the .drop_duplicates() method.  The possible reasons for duplicate data are:\n",
    "1. Importing data from multiple sources\n",
    "2. Customer data being transferred from old systems\n",
    "3. The data is not set up to alert duplicates\n"
   ]
  },
  {
   "cell_type": "markdown",
   "metadata": {},
   "source": [
    "<font color=\"red\"> Valid reasons indeed </font>"
   ]
  },
  {
   "cell_type": "markdown",
   "metadata": {},
   "source": [
    "### Categorizing Data"
   ]
  },
  {
   "cell_type": "code",
   "execution_count": 653,
   "metadata": {},
   "outputs": [
    {
     "name": "stdout",
     "output_type": "stream",
     "text": [
      "lower           9489\n",
      "lower middle    9170\n",
      "middle          2434\n",
      "upper middle     279\n",
      "upper             99\n",
      "Name: class_group, dtype: int64\n",
      "\n",
      "real estate    10814\n",
      "car             4308\n",
      "education       4014\n",
      "wedding         2335\n",
      "Name: purpose, dtype: int64\n"
     ]
    }
   ],
   "source": [
    "#categorize total income based on parameters\n",
    "def class_group(row):\n",
    "\n",
    "    income = row['total_income']\n",
    "    \n",
    "    if income < 20000:\n",
    "        return 'lower'\n",
    "    if 20000 <= income < 40000:\n",
    "        return 'lower middle'\n",
    "    if 40000 <= income < 70000:\n",
    "        return 'middle'\n",
    "    if 70000 <= income < 100000:\n",
    "        return 'upper middle'\n",
    "    if income >= 100000:\n",
    "        return 'upper'\n",
    "\n",
    "#create a new column that categorizes income by class\n",
    "credit_data['class_group'] = credit_data.apply(class_group, axis=1)\n",
    "#print(credit_data)\n",
    "\n",
    "#check the amount of values that fit into each category\n",
    "print(credit_data['class_group'].value_counts())\n",
    "print()\n",
    "\n",
    "#EDITS BELOW\n",
    "\n",
    "#lemmatize the column 'purpose'\n",
    "def purpose_lemma(row):\n",
    "    import nltk\n",
    "    from nltk.stem import WordNetLemmatizer\n",
    "    wordnet_lemma = WordNetLemmatizer()\n",
    "    lemmas = [wordnet_lemma.lemmatize(w, pos = 'n') for w in nltk.word_tokenize(row)]\n",
    "    return lemmas\n",
    "\n",
    "credit_data['purpose'] = credit_data['purpose'].apply(purpose_lemma)\n",
    "\n",
    "#convert lemmatized values to a broader category\n",
    "def purpose_group(row):\n",
    "    purpose = row['purpose']\n",
    "    \n",
    "    if 'wedding' in purpose:\n",
    "        return 'wedding'\n",
    "    \n",
    "    if 'car' in purpose:\n",
    "        return 'car'\n",
    "    \n",
    "    if 'property' in purpose or 'real' in purpose or 'house' in purpose or 'housing' in purpose:\n",
    "        return 'real estate'\n",
    "    \n",
    "    if 'university' in purpose or 'education' in purpose or 'educated' in purpose:\n",
    "        return 'education'\n",
    "\n",
    "credit_data['purpose'] = credit_data.apply(purpose_group, axis=1)\n",
    "    \n",
    "#check the lemmatized values in order to find the common words\n",
    "\n",
    "print(credit_data['purpose'].value_counts())\n",
    "\n",
    "\n"
   ]
  },
  {
   "cell_type": "markdown",
   "metadata": {},
   "source": [
    "### Conclusion"
   ]
  },
  {
   "cell_type": "markdown",
   "metadata": {},
   "source": [
    "Data categorization is used to get clearer insights by organizing the selected data into groups according to specific criteria.  In this case I categorized the 'total_income' column into 5 classes: lower, lower middle, middle, upper middle, and upper.  By categorizing this data, I can now refer to 5 distinct classes of income when drawing conclusions, rather than specific income values. \n",
    "\n",
    "<font color=\"blue\"> *Edit*:\n",
    "    \n",
    "I also lemmatized the 'purpose' column and arranged the values into four broad categories: real estate, car, education, and wedding.  By categorizing this data, I can identify certain purposes as being in the same category, even if the input is not worded in exactly the same way. </font>"
   ]
  },
  {
   "cell_type": "markdown",
   "metadata": {},
   "source": [
    "<font color=\"red\"> Please add purpose categorization. You should use Lemmatizer for that </font>"
   ]
  },
  {
   "cell_type": "markdown",
   "metadata": {},
   "source": [
    "### Step 3. Answer these questions"
   ]
  },
  {
   "cell_type": "markdown",
   "metadata": {},
   "source": [
    "- Is there a relation between having kids and repaying a loan on time?"
   ]
  },
  {
   "cell_type": "code",
   "execution_count": 654,
   "metadata": {},
   "outputs": [
    {
     "name": "stdout",
     "output_type": "stream",
     "text": [
      "Percentage of past defaults based on number of kids\n",
      "---------------------------------------------------\n",
      "0 kids: 7.54 %\n",
      "1 kid: 9.23 %\n",
      "2 kids: 9.45 %\n",
      "3 kids: 8.18 %\n",
      "4 kids: 9.76 %\n",
      "5 kids: 0.0 %\n",
      "\n",
      "Percentage of past defaults based on having any amount of kids\n",
      "--------------------------------------------------------------\n",
      "no kids: 7.54 %\n",
      "has kids: 9.24 %\n"
     ]
    }
   ],
   "source": [
    "#first I want to check the data in the 'children' column\n",
    "kids_amount = credit_data['children'].value_counts()\n",
    "\n",
    "#create a log that compares # of kids to defaults\n",
    "kids_log = credit_data[['children','debt']]\n",
    "\n",
    "#print table with debt values for each category of kids\n",
    "kids_grouped = kids_log.groupby('children').sum()\n",
    "\n",
    "#EDITS BELOW\n",
    "\n",
    "#create a variable that contains all customers that have kids except for the outlier of 20\n",
    "has_kids = (kids_log['children'] <= 5) & (kids_log['children'] > 0)\n",
    "\n",
    "#how many of those customers with kids have debt\n",
    "has_kids_debt = (kids_log['children'] <= 5) & (kids_log['children'] > 0) & (kids_log['debt'] == 1)\n",
    "\n",
    "#ratio of defaults for customers woth kids\n",
    "has_kids_ratio = ((has_kids_debt.sum() / has_kids.sum())*100).round(2)\n",
    "\n",
    "#find percentage of default based on number of kids\n",
    "no_kids = (kids_grouped['debt'][0] / kids_amount[0]*100).round(2)\n",
    "one_kid = (kids_grouped['debt'][1] / kids_amount[1]*100).round(2)\n",
    "two_kids = (kids_grouped['debt'][2] / kids_amount[2]*100).round(2)\n",
    "three_kids = (kids_grouped['debt'][3] / kids_amount[3]*100).round(2)\n",
    "four_kids = (kids_grouped['debt'][4] / kids_amount[4]*100).round(2)\n",
    "five_kids = (kids_grouped['debt'][5] / kids_amount[5]*100).round(2)\n",
    "\n",
    "#print percentage results\n",
    "print('Percentage of past defaults based on number of kids')\n",
    "print('---------------------------------------------------')\n",
    "print('0 kids:',no_kids,'%')\n",
    "print('1 kid:',one_kid,'%')\n",
    "print('2 kids:',two_kids,'%')\n",
    "print('3 kids:',three_kids,'%')\n",
    "print('4 kids:',four_kids,'%')\n",
    "print('5 kids:',five_kids,'%')\n",
    "print()\n",
    "print('Percentage of past defaults based on having any amount of kids')\n",
    "print('--------------------------------------------------------------')\n",
    "print('no kids:', no_kids,'%')\n",
    "print('has kids:', has_kids_ratio,'%')\n"
   ]
  },
  {
   "cell_type": "markdown",
   "metadata": {},
   "source": [
    "### Conclusion"
   ]
  },
  {
   "cell_type": "markdown",
   "metadata": {},
   "source": [
    "Based on the percentages, I don't believe there is a relationship between having kids and paying back a loan on time.  Having 4 kids gives the customer the highest chance of not paying back the loan, while having 5 kids gives them the lowest chance.  Although the pool of customers with 5 kids is very small, every customer had always paid back their loan on time.\n",
    "\n",
    "<font color=\"blue\"> *Edit*: \n",
    "    \n",
    "When comparing percentages of customers who have no kids and have any amount of kids, there is a jump in default rates from 7.54 % to 9.24 %.  Therefore having kids does seem to have an effect on whether or not a customer will default."
   ]
  },
  {
   "cell_type": "markdown",
   "metadata": {},
   "source": [
    "<font color=\"red\"> Well, we see some difference between 0 kids and having >0 kids. It's just a couple of percents but it's up to our customer to decide whether it's a significant difference or not </font>"
   ]
  },
  {
   "cell_type": "markdown",
   "metadata": {},
   "source": [
    "- Is there a relation between marital status and repaying a loan on time?"
   ]
  },
  {
   "cell_type": "code",
   "execution_count": 655,
   "metadata": {},
   "outputs": [
    {
     "name": "stdout",
     "output_type": "stream",
     "text": [
      "Percentage of past defaults by Marital Status\n",
      "---------------------------------------------\n",
      "Married: 7.54 %\n",
      "Civil Partnership: 9.32 %\n",
      "Widow / Widower: 6.57 %\n",
      "Divorced: 7.11 %\n",
      "Unmarried: 9.75 %\n"
     ]
    }
   ],
   "source": [
    "#check the amount of each family status\n",
    "family_amount = credit_data['family_status'].value_counts()\n",
    "\n",
    "#create a dictionary for family status\n",
    "family_dict = credit_data[['family_status_id', 'family_status']]\n",
    "\n",
    "#drop the duplicates and reset the index\n",
    "family_dict = family_dict.drop_duplicates().reset_index(drop=True)\n",
    "\n",
    "#create a category to compare family status to debt\n",
    "family_log = credit_data[['family_status_id', 'debt']]\n",
    "\n",
    "#compare amount of defaults per status\n",
    "family_grouped = family_log.groupby('family_status_id').sum()\n",
    "\n",
    "#find percentage of default per status\n",
    "married_final = (((family_grouped['debt'][0] / family_amount[0])*100).round(2))\n",
    "civil_final = (((family_grouped['debt'][1] / family_amount[1])*100).round(2))\n",
    "widow_final = (((family_grouped['debt'][2] / family_amount[4])*100).round(2))\n",
    "divorced_final = (((family_grouped['debt'][3] / family_amount[3])*100).round(2))\n",
    "unmarried_final = (((family_grouped['debt'][4] / family_amount[2])*100).round(2))\n",
    "\n",
    "#print percentage results\n",
    "print('Percentage of past defaults by Marital Status')\n",
    "print('---------------------------------------------')\n",
    "print('Married:',married_final,'%')\n",
    "print('Civil Partnership:',civil_final,'%')\n",
    "print('Widow / Widower:',widow_final,'%')\n",
    "print('Divorced:',divorced_final,'%')\n",
    "print('Unmarried:',unmarried_final,'%')"
   ]
  },
  {
   "cell_type": "markdown",
   "metadata": {},
   "source": [
    "### Conclusion"
   ]
  },
  {
   "cell_type": "markdown",
   "metadata": {},
   "source": [
    "I used a dictionary for the family id.  This helped me keep track of the marital status when doing arithmetic operations.  There seems to be a relationship between marital status and repaying a loan on time.  The lowest chance of default belongs to widow/widowers and divorcees, while civil partnerships and unmarried cutomers have the highest risk of defaulting.  "
   ]
  },
  {
   "cell_type": "markdown",
   "metadata": {},
   "source": [
    "- Is there a relation between income level and repaying a loan on time?"
   ]
  },
  {
   "cell_type": "raw",
   "metadata": {},
   "source": []
  },
  {
   "cell_type": "code",
   "execution_count": 656,
   "metadata": {},
   "outputs": [
    {
     "name": "stdout",
     "output_type": "stream",
     "text": [
      "Percentage of past defaults by class\n",
      "------------------------------------\n",
      "Lower: 8.2 %\n",
      "Lower Middle: 8.39 %\n",
      "Middle: 7.07 %\n",
      "Upper Middle: 5.73 %\n",
      "Upper: 6.06 %\n",
      "\n",
      "\n",
      "Amount of defaults by class arranged by income types\n",
      "----------------------------------------------------\n",
      "class_group                  lower  lower middle  middle  upper  upper middle\n",
      "income_type                                                                  \n",
      "business                     127.0         182.0    57.0    4.0           6.0\n",
      "civil servant                 41.0          36.0     9.0    0.0           0.0\n",
      "employee                     484.0         474.0    92.0    2.0           9.0\n",
      "entrepreneur                   0.0           0.0     0.0    0.0           0.0\n",
      "paternity / maternity leave    1.0           0.0     0.0    0.0           0.0\n",
      "retiree                      124.0          77.0    14.0    0.0           1.0\n",
      "student                        0.0           0.0     0.0    0.0           0.0\n",
      "unemployed                     1.0           0.0     0.0    0.0           0.0\n"
     ]
    }
   ],
   "source": [
    "#categorize total income based on parameters\n",
    "def class_group(row):\n",
    "\n",
    "    income = row['total_income']\n",
    "    \n",
    "    if income < 20000:\n",
    "        return 'lower'\n",
    "    if 20000 <= income < 40000:\n",
    "        return 'lower middle'\n",
    "    if 40000 <= income < 70000:\n",
    "        return 'middle'\n",
    "    if 70000 <= income < 100000:\n",
    "        return 'upper middle'\n",
    "    if income >= 100000:\n",
    "        return 'upper'\n",
    "\n",
    "#create a new column that categorizes income by class\n",
    "credit_data['class_group'] = credit_data.apply(class_group, axis=1)\n",
    "\n",
    "#check the amount of values that fit into each category\n",
    "class_final = credit_data['class_group'].value_counts()\n",
    "\n",
    "#create a log based on class\n",
    "class_log = credit_data[['class_group', 'debt']]\n",
    "\n",
    "#sum the amount of defaults per class\n",
    "class_default = class_log.groupby('class_group').sum().sort_values('debt', ascending=False)\n",
    "\n",
    "#divide class_default by class_final to get percentage of defaults by class\n",
    "lower_default = ((class_default['debt'][0] / class_final[0])*100).round(2)\n",
    "lm_default = ((class_default['debt'][1] / class_final[1])*100).round(2)\n",
    "middle_default = ((class_default['debt'][2] / class_final[2])*100).round(2)\n",
    "um_default = ((class_default['debt'][3] / class_final[3])*100).round(2)\n",
    "upper_default = ((class_default['debt'][4] / class_final[4])*100).round(2)\n",
    "\n",
    "#print the results\n",
    "print('Percentage of past defaults by class')\n",
    "print('------------------------------------')\n",
    "print('Lower:',lower_default,'%')\n",
    "print('Lower Middle:',lm_default,'%')\n",
    "print('Middle:',middle_default,'%')\n",
    "print('Upper Middle:',um_default,'%')\n",
    "print('Upper:',upper_default,'%')\n",
    "print()\n",
    "print()\n",
    "\n",
    "#create pivot table to examine defaults by class and income type\n",
    "print('Amount of defaults by class arranged by income types')\n",
    "print('----------------------------------------------------')\n",
    "data_pivot = credit_data.pivot_table(index=['income_type'], columns='class_group', values='debt', aggfunc='sum')\n",
    "#fill the missing value\n",
    "data_pivot = data_pivot.fillna(0)\n",
    "print(data_pivot)\n",
    "\n"
   ]
  },
  {
   "cell_type": "markdown",
   "metadata": {},
   "source": [
    "<font color=\"red\"> Great usage of pivot tables! </font>"
   ]
  },
  {
   "cell_type": "markdown",
   "metadata": {},
   "source": [
    "### Conclusion"
   ]
  },
  {
   "cell_type": "markdown",
   "metadata": {},
   "source": [
    "According to the percentage of defaults by class, I believe income has an affect on repaying a loan on time.  It seems the more money the customer makes, the more likely they are to repay their loan on time.  I also used a pivot table to examine if the income type had any effect on the conclusion.  Regardless of income type, higher class customers have less defaults."
   ]
  },
  {
   "cell_type": "markdown",
   "metadata": {},
   "source": [
    "- How do different loan purposes affect on-time repayment of the loan?"
   ]
  },
  {
   "cell_type": "code",
   "execution_count": 657,
   "metadata": {},
   "outputs": [
    {
     "name": "stdout",
     "output_type": "stream",
     "text": [
      "Percentage of past defaults by purpose\n",
      "--------------------------------------\n",
      "Real Estate: 7.23 %\n",
      "Car: 9.35 %\n",
      "Education: 9.22 %\n",
      "Wedding: 7.97 %\n"
     ]
    }
   ],
   "source": [
    "#check the amount for each purpose\n",
    "purpose_final= credit_data['purpose'].value_counts()\n",
    "\n",
    "#create a log based on purpose\n",
    "purpose_log = credit_data[['purpose', 'debt']]\n",
    "\n",
    "#group by purpose \n",
    "purpose_grouped = purpose_log.groupby('purpose').sum()\n",
    "\n",
    "#amount of default by each purpose\n",
    "purpose_default = purpose_grouped.sort_values('debt', ascending=False)\n",
    "\n",
    "#EDITS BELOW\n",
    "\n",
    "#percentage of defaults by purpose\n",
    "real_estate_final = (((purpose_default['debt'][0] / purpose_final[0])*100).round(2))\n",
    "car_final = (((purpose_default['debt'][1] / purpose_final[1])*100).round(2))\n",
    "education_final = (((purpose_default['debt'][2] / purpose_final[2])*100).round(2))\n",
    "wedding_final = (((purpose_default['debt'][3] / purpose_final[3])*100).round(2))\n",
    "\n",
    "#print the results\n",
    "print('Percentage of past defaults by purpose')\n",
    "print('--------------------------------------')\n",
    "print('Real Estate:',real_estate_final,'%')\n",
    "print('Car:',car_final,'%')\n",
    "print('Education:',education_final,'%')\n",
    "print('Wedding:',wedding_final,'%')\n",
    "\n",
    "\n"
   ]
  },
  {
   "cell_type": "markdown",
   "metadata": {},
   "source": [
    "<font color=\"red\"> Please use Lemmatizer for purposes categorization. Actually there should be just several groups </font>"
   ]
  },
  {
   "cell_type": "markdown",
   "metadata": {},
   "source": [
    "### Conclusion"
   ]
  },
  {
   "cell_type": "markdown",
   "metadata": {},
   "source": [
    "I'm not sure how to breakdown the data from here.  It seems that there is a similar ratio of defaults to purpose, which means there is not a relation of purpose to defaulting.\n",
    "\n",
    "<font color=\"blue\">*Edit*:\n",
    "\n",
    "It seems that anything real estate related has the lowest chance of default, while using the money for a car is the highest risk.  This makes sense, since real estate is usually an asset while cars are liabilities.</font>"
   ]
  },
  {
   "cell_type": "markdown",
   "metadata": {},
   "source": [
    "### Step 4. General conclusion"
   ]
  },
  {
   "cell_type": "markdown",
   "metadata": {},
   "source": [
    "In conclusion, there were two factors that determined default risk: martial status, and total income.  The lower the class, the more at risk the customer was to defaulting.  A customer also had a high risk of defaulting if they were in a civil partnership or unmarried.  There were many artifacts in th data.  For example, there were customers who had -1 kids.  I did not consider them in the final analysis.  \n",
    "\n",
    "<font color=\"blue\">*Edit*:\n",
    "    \n",
    "In addition, I found two more factors that determined default risk: having kids, and purpose for the loan.  Customers with kids of any amount were more likely to default, and customers who use the loan to purchase a car are also more likely to default.  "
   ]
  },
  {
   "cell_type": "markdown",
   "metadata": {},
   "source": [
    "<font color=\"red\"> Good job. Please review comments </font>"
   ]
  },
  {
   "cell_type": "code",
   "execution_count": null,
   "metadata": {},
   "outputs": [],
   "source": []
  }
 ],
 "metadata": {
  "kernelspec": {
   "display_name": "Python 3",
   "language": "python",
   "name": "python3"
  },
  "language_info": {
   "codemirror_mode": {
    "name": "ipython",
    "version": 3
   },
   "file_extension": ".py",
   "mimetype": "text/x-python",
   "name": "python",
   "nbconvert_exporter": "python",
   "pygments_lexer": "ipython3",
   "version": "3.7.6"
  }
 },
 "nbformat": 4,
 "nbformat_minor": 2
}
